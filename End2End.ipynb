{
 "cells": [
  {
   "cell_type": "code",
   "execution_count": 2,
   "metadata": {},
   "outputs": [],
   "source": [
    "# Import required libraries\n",
    "import os\n",
    "import torch\n",
    "from torch.utils.data import DataLoader\n",
    "import torchvision.transforms as transforms\n",
    "from data_loader import SimulatorDataset  # Ensure data_loader.py is in the same directory\n"
   ]
  },
  {
   "cell_type": "code",
   "execution_count": 18,
   "metadata": {},
   "outputs": [],
   "source": [
    "# Simulator Data Loading Example\n",
    "\n",
    "# Set paths to the image and label directories\n",
    "image_dir = \"./data/Garching_dataset/right/images\"  # Replace with your actual image directory\n",
    "label_dir = \"./data/Garching_dataset/right/drivings\"  # Replace with your actual label directory\n",
    "\n",
    "# Define transformation for images (e.g., resizing and normalization)\n",
    "transform = transforms.Compose([\n",
    "    transforms.Resize((224, 224)),  # Resize images to 224x224\n",
    "    transforms.ToTensor(),          # Convert PIL images to tensors\n",
    "    transforms.Normalize(mean=[0.5, 0.5, 0.5], std=[0.5, 0.5, 0.5])  # Normalize pixel values to [-1, 1]\n",
    "])"
   ]
  },
  {
   "cell_type": "code",
   "execution_count": 19,
   "metadata": {},
   "outputs": [
    {
     "name": "stdout",
     "output_type": "stream",
     "text": [
      "Found 1230 image files in ./data/Garching_dataset/right/images.\n",
      "Found 410 label files in ./data/Garching_dataset/right/drivings.\n"
     ]
    },
    {
     "name": "stderr",
     "output_type": "stream",
     "text": [
      "Mapping Images to Labels: 100%|██████████| 1230/1230 [00:00<00:00, 131654.01file/s]"
     ]
    },
    {
     "name": "stdout",
     "output_type": "stream",
     "text": [
      "Successfully matched 1230 image-label pairs.\n",
      "Created data_map with 1230 entries.\n"
     ]
    },
    {
     "name": "stderr",
     "output_type": "stream",
     "text": [
      "\n"
     ]
    }
   ],
   "source": [
    "# Initialize dataset\n",
    "dataset = SimulatorDataset(\n",
    "    image_dir=image_dir,\n",
    "    label_dir=label_dir,\n",
    "    transform= transform,\n",
    "    output_fields=[\"Steering\",\"Brake\"]  # Specify desired output fields\n",
    ")\n"
   ]
  },
  {
   "cell_type": "code",
   "execution_count": null,
   "metadata": {},
   "outputs": [
    {
     "name": "stdout",
     "output_type": "stream",
     "text": [
      "Loaded image at index 0: ./data/Garching_dataset/right/images\\20241103_170802_000_L.png (Size: (640, 360))\n",
      "successfully transform the image\n",
      "check the channels\n",
      "Transformed image shape: torch.Size([3, 224, 224])\n",
      "Parsed labels from ./data/Garching_dataset/right/drivings\\20241103_170802_000.csv: {'Throttle': 0.0, 'Brake': 0.0, 'Steering': 1.0, 'Wheel Angle': 0.0, 'Heading': -178.572638, 'Position': [-48335.584, 13665.832, 3.707], 'Speed': 20.700058, 'Acc': -0.379627, 'Direction': 1}\n",
      "Output labels for index 0: [1.0, 0.0]\n"
     ]
    }
   ],
   "source": [
    "# 检验，取出第一个样本\n",
    "image, lsabel = dataset[0]"
   ]
  },
  {
   "cell_type": "code",
   "execution_count": 21,
   "metadata": {},
   "outputs": [
    {
     "name": "stdout",
     "output_type": "stream",
     "text": [
      "torch.Size([3, 224, 224])\n"
     ]
    }
   ],
   "source": [
    "print(image.shape)"
   ]
  },
  {
   "cell_type": "code",
   "execution_count": 16,
   "metadata": {},
   "outputs": [
    {
     "name": "stdout",
     "output_type": "stream",
     "text": [
      "Dataset length: 1269\n",
      "Dataset length: 1269\n"
     ]
    }
   ],
   "source": [
    "\n",
    "# Define DataLoader with batch size and other parameters\n",
    "batch_size = 32  # Define batch size\n",
    "dataloader = DataLoader(\n",
    "    dataset,\n",
    "    batch_size=batch_size,\n",
    "    shuffle=True,      # Shuffle data for better training\n",
    "    num_workers=4,     # Use multiple workers to speed up data loading\n",
    "    pin_memory=True    # Pin memory for faster data transfer to GPU\n",
    ")\n"
   ]
  },
  {
   "cell_type": "code",
   "execution_count": null,
   "metadata": {},
   "outputs": [],
   "source": []
  }
 ],
 "metadata": {
  "kernelspec": {
   "display_name": "udacity",
   "language": "python",
   "name": "python3"
  },
  "language_info": {
   "codemirror_mode": {
    "name": "ipython",
    "version": 3
   },
   "file_extension": ".py",
   "mimetype": "text/x-python",
   "name": "python",
   "nbconvert_exporter": "python",
   "pygments_lexer": "ipython3",
   "version": "3.9.7"
  }
 },
 "nbformat": 4,
 "nbformat_minor": 2
}
