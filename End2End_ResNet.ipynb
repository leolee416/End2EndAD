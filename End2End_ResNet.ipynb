{
 "cells": [
  {
   "cell_type": "markdown",
   "metadata": {},
   "source": [
    "# ResNet-E2E"
   ]
  },
  {
   "cell_type": "markdown",
   "metadata": {},
   "source": [
    "## Datasets\n",
    "按照摄像头类型将数据分为三类，`L`,`M`以及`R`。其中`L`与`R`的\"Steering\"标签会被人为添加一个偏移量，模拟汽车在偏离车道的情况下反向修正的操作，且这两种数据会全部用于训练模型（被分配到Training Set）。而`M`的数据会根据Training: Eval: Test = 6:3:1的比例来进行划分。\n"
   ]
  },
  {
   "cell_type": "code",
   "execution_count": 20,
   "metadata": {},
   "outputs": [],
   "source": [
    "# Import required libraries\n",
    "import os\n",
    "import torch\n",
    "from torch.utils.data import Subset,DataLoader\n",
    "import torchvision.transforms as transforms\n",
    "from data_loader import SimulatorDataset  # Ensure data_loader.py is in the same directory\n",
    "from network_model import ModelCNN  # \n",
    "import torch.nn as nn\n",
    "import torch.optim as optim\n",
    "from sklearn.model_selection import train_test_split\n"
   ]
  },
  {
   "cell_type": "code",
   "execution_count": 96,
   "metadata": {},
   "outputs": [],
   "source": [
    "# Simulator Data Loading Example\n",
    "device = torch.device(\"cuda\" if torch.cuda.is_available() else \"cpu\")\n",
    "\n",
    "# Set paths to the image and label directories\n",
    "image_dir = \"./data/Garching_dataset/straight/images\"  # Replace with your actual image directory\n",
    "label_dir = \"./data/Garching_dataset/straight/drivings\"  # Replace with your actual label directory\n",
    "\n",
    "# Define transformation for images (e.g., resizing and normalization)\n",
    "transform = transforms.Compose([\n",
    "    transforms.Resize((224, 224)),  # Resize images to 224x224\n",
    "    transforms.ToTensor(),          # Convert PIL images to tensors\n",
    "    transforms.Normalize(mean=[0.5, 0.5, 0.5], std=[0.5, 0.5, 0.5])  # Normalize pixel values to [-1, 1]\n",
    "])"
   ]
  },
  {
   "cell_type": "markdown",
   "metadata": {},
   "source": [
    "## Data splitting"
   ]
  },
  {
   "cell_type": "code",
   "execution_count": 97,
   "metadata": {},
   "outputs": [],
   "source": [
    "\n",
    "# 按摄像头标签（L, M, R）分类数据\n",
    "def categorize_by_camera(dataset):\n",
    "    camera_data = {\"L\": [], \"M\": [], \"R\": []}\n",
    "    for idx in range(len(dataset)):\n",
    "        image_path = dataset.data_map[idx][\"image\"]\n",
    "        camera_type = dataset.data_map[idx][\"camera\"]\n",
    "        camera_data[camera_type].append(idx)\n",
    "    return camera_data\n"
   ]
  },
  {
   "cell_type": "code",
   "execution_count": 98,
   "metadata": {},
   "outputs": [
    {
     "name": "stdout",
     "output_type": "stream",
     "text": [
      "Found 12948 image files in ./data/Garching_dataset/straight/images.\n",
      "Found 4316 label files in ./data/Garching_dataset/straight/drivings.\n"
     ]
    },
    {
     "name": "stderr",
     "output_type": "stream",
     "text": [
      "Mapping Images to Labels: 100%|██████████| 12948/12948 [00:00<00:00, 110904.09file/s]"
     ]
    },
    {
     "name": "stdout",
     "output_type": "stream",
     "text": [
      "Successfully matched 12948 image-label pairs.\n",
      "Created data_map with 12948 entries.\n"
     ]
    },
    {
     "name": "stderr",
     "output_type": "stream",
     "text": [
      "\n"
     ]
    }
   ],
   "source": [
    "output_fields = [\"Steering\", \"Throttle\", \"Brake\"]  # 你想要的输出字段\n",
    "\n",
    "# Initialize dataset\n",
    "dataset = SimulatorDataset(\n",
    "    image_dir=image_dir,\n",
    "    label_dir=label_dir,\n",
    "    transform= transform,\n",
    "    output_fields=output_fields # Specify desired output fields\n",
    ")\n"
   ]
  },
  {
   "cell_type": "code",
   "execution_count": 99,
   "metadata": {},
   "outputs": [
    {
     "name": "stdout",
     "output_type": "stream",
     "text": [
      "Loaded image at index 0: ./data/Garching_dataset/straight/images\\20241103_164545_000_L.png (Size: (640, 360))\n",
      "successfully transform the image\n",
      "Transformed image shape: torch.Size([3, 224, 224])\n",
      "Parsed labels from ./data/Garching_dataset/straight/drivings\\20241103_164545_000.csv: {'Throttle': 1.0, 'Brake': 0.0, 'Steering': 0.0, 'Wheel Angle': 0.0, 'Heading': -0.195734, 'Position': [-26481.492, 13759.909, 4.352], 'Speed': 1.805358, 'Acc': 0.208302, 'Direction': 1}\n",
      "Output labels for index 0: [0.20000000298023224, 1.0, 0.0]\n",
      "torch.Size([3, 224, 224])\n"
     ]
    }
   ],
   "source": [
    "# 检验，取出第一个样本\n",
    "image, label = dataset[0]\n",
    "print(image.shape)\n"
   ]
  },
  {
   "cell_type": "code",
   "execution_count": 100,
   "metadata": {},
   "outputs": [
    {
     "name": "stdout",
     "output_type": "stream",
     "text": [
      "Dataset length: 12948\n",
      "4316\n",
      "4316\n",
      "4316\n"
     ]
    }
   ],
   "source": [
    "# 将数据分类为 L, M, R\n",
    "camera_data = categorize_by_camera(dataset)\n",
    "data_L = camera_data[\"L\"]\n",
    "data_M = camera_data[\"M\"]\n",
    "data_R = camera_data[\"R\"]\n",
    "print(len(data_L))\n",
    "print(len(data_M))\n",
    "print(len(data_R))"
   ]
  },
  {
   "cell_type": "markdown",
   "metadata": {},
   "source": [
    "## 大数据集分割"
   ]
  },
  {
   "cell_type": "code",
   "execution_count": 116,
   "metadata": {},
   "outputs": [
    {
     "name": "stdout",
     "output_type": "stream",
     "text": [
      "Train: 11869 samples\n",
      "Eval: 809 samples\n",
      "Test: 270 samples\n"
     ]
    }
   ],
   "source": [
    "\n",
    "# 对 M 数据划分为 train, eval, test\n",
    "train_M, temp_M = train_test_split(data_M, test_size=0.25, random_state=42)\n",
    "eval_M, test_M = train_test_split(temp_M, test_size=0.25, random_state=42)  # 30% eval, 10% test\n",
    "\n",
    "# train 集合包括 L、R 和部分 M\n",
    "train_indices = data_L + data_R + train_M\n",
    "\n",
    "# eval 和 test 集合仅包括 M\n",
    "eval_indices = eval_M\n",
    "test_indices = test_M\n",
    "\n",
    "# 打印划分结果\n",
    "print(f\"Train: {len(train_indices)} samples\")\n",
    "print(f\"Eval: {len(eval_indices)} samples\")\n",
    "print(f\"Test: {len(test_indices)} samples\")"
   ]
  },
  {
   "cell_type": "code",
   "execution_count": null,
   "metadata": {},
   "outputs": [],
   "source": []
  },
  {
   "cell_type": "markdown",
   "metadata": {},
   "source": [
    "## 小数据集分割"
   ]
  },
  {
   "cell_type": "code",
   "execution_count": 117,
   "metadata": {},
   "outputs": [
    {
     "name": "stdout",
     "output_type": "stream",
     "text": [
      "4316\n",
      "4316\n",
      "4316\n"
     ]
    }
   ],
   "source": [
    "print(len(data_L))\n",
    "print(len(data_M))\n",
    "print(len(data_R))"
   ]
  },
  {
   "cell_type": "code",
   "execution_count": 118,
   "metadata": {},
   "outputs": [],
   "source": [
    "import random\n",
    "# 从每个摄像头类别中抽取 50% 的数据\n",
    "random.seed(42)  # 固定随机种子，确保可重复性\n",
    "small_data_L = random.sample(data_L, len(data_L) // 3)\n",
    "small_data_M = random.sample(data_M, len(data_M) // 3)\n",
    "small_data_R = random.sample(data_R, len(data_R) // 3)"
   ]
  },
  {
   "cell_type": "code",
   "execution_count": 119,
   "metadata": {},
   "outputs": [
    {
     "name": "stdout",
     "output_type": "stream",
     "text": [
      "Small Train: 3954 samples\n",
      "Small Eval: 270 samples\n",
      "Small Test: 90 samples\n"
     ]
    }
   ],
   "source": [
    "\n",
    "# 对小数据集的 M 图像进行 6:3:1 分割\n",
    "train_M, temp_M = train_test_split(small_data_M, test_size=0.25, random_state=42)\n",
    "eval_M, test_M = train_test_split(temp_M, test_size=0.25, random_state=42)  # 30% eval, 10% test\n",
    "\n",
    "\n",
    "# 小数据集 train 集合包括 L、R 和部分 M\n",
    "small_train_indices = small_data_L + small_data_R + train_M\n",
    "\n",
    "# 小数据集 eval 和 test 集合仅包括 M\n",
    "small_eval_indices = eval_M\n",
    "small_test_indices = test_M\n",
    "\n",
    "# 打印小数据集划分结果\n",
    "print(f\"Small Train: {len(small_train_indices)} samples\")\n",
    "print(f\"Small Eval: {len(small_eval_indices)} samples\")\n",
    "print(f\"Small Test: {len(small_test_indices)} samples\")\n",
    "    \n"
   ]
  },
  {
   "cell_type": "markdown",
   "metadata": {},
   "source": [
    "# Use dataloader traininig"
   ]
  },
  {
   "cell_type": "code",
   "execution_count": 120,
   "metadata": {},
   "outputs": [],
   "source": [
    "# Flag to decide which dataset to use\n",
    "use_small_dataset = False  # 设置为 True 使用小数据集，False 使用大数据集\n"
   ]
  },
  {
   "cell_type": "code",
   "execution_count": null,
   "metadata": {},
   "outputs": [],
   "source": [
    "# 超参数\n",
    "batch_size = 10\n",
    "num_epochs = 50\n",
    "learning_rate = 1e-4"
   ]
  },
  {
   "cell_type": "code",
   "execution_count": 122,
   "metadata": {},
   "outputs": [
    {
     "name": "stdout",
     "output_type": "stream",
     "text": [
      "Using full dataset for training and evaluation...\n"
     ]
    }
   ],
   "source": [
    "# 根据 flag 决定使用大数据集还是小数据集\n",
    "if use_small_dataset:\n",
    "    print(\"Using small dataset for training and evaluation...\")\n",
    "    train_dataset = Subset(dataset, train_indices)\n",
    "    eval_dataset = Subset(dataset, eval_indices)\n",
    "    test_dataset = Subset(dataset, test_indices)\n",
    "\n",
    "    train_loader =  DataLoader(train_dataset, batch_size=batch_size, shuffle=True, num_workers=4, pin_memory=True)\n",
    "    eval_loader = DataLoader(eval_dataset, batch_size=batch_size, shuffle=False, num_workers=4, pin_memory=True)\n",
    "    test_loader =  DataLoader(test_dataset, batch_size=batch_size, shuffle=False, num_workers=4, pin_memory=True)\n",
    "else:\n",
    "    print(\"Using full dataset for training and evaluation...\")\n",
    "    train_dataset = Subset(dataset, train_indices)\n",
    "    eval_dataset = Subset(dataset, eval_indices)\n",
    "    test_dataset = Subset(dataset, test_indices)\n",
    "    train_loader = DataLoader(train_dataset, batch_size=batch_size, shuffle=True, num_workers=8, pin_memory=True)\n",
    "    eval_loader = DataLoader(eval_dataset, batch_size=batch_size, shuffle=False, num_workers=8, pin_memory=True)\n",
    "    test_loader = DataLoader(test_dataset, batch_size=batch_size, shuffle=False, num_workers=8, pin_memory=True)\n"
   ]
  },
  {
   "cell_type": "code",
   "execution_count": 123,
   "metadata": {},
   "outputs": [],
   "source": [
    "# 初始化模型\n",
    "model = ModelCNN(output_fields=output_fields)\n",
    "device = torch.device(\"cuda\" if torch.cuda.is_available() else \"cpu\")\n",
    "model = model.to(device)"
   ]
  },
  {
   "cell_type": "code",
   "execution_count": 124,
   "metadata": {},
   "outputs": [],
   "source": [
    "# 定义损失函数和优化器\n",
    "criterion = nn.MSELoss()\n",
    "optimizer = optim.Adam(model.parameters(), lr=learning_rate)"
   ]
  },
  {
   "cell_type": "code",
   "execution_count": null,
   "metadata": {},
   "outputs": [],
   "source": [
    "from tqdm import tqdm\n",
    "from torch.utils.tensorboard import SummaryWriter\n",
    "from datetime import datetime\n",
    "\n",
    "# 使用当前时间戳生成独特的日志目录名称\n",
    "# 超参数和自定义消息\n",
    "custom_message = \"straight_big_1st\"\n",
    "\n",
    "# 动态生成日志目录\n",
    "current_time = datetime.now().strftime(\"%Y-%m-%d_%H-%M-%S\")\n",
    "log_dir = f\"./logs/lr_{learning_rate}_msg_{custom_message}_{current_time}\"\n",
    "\n",
    "\n",
    "# 定义模型保存路径\n",
    "save_dir = \"./models\"\n",
    "os.makedirs(save_dir, exist_ok=True)  # 如果目录不存在，则创建\n",
    "\n"
   ]
  },
  {
   "cell_type": "code",
   "execution_count": null,
   "metadata": {},
   "outputs": [
    {
     "name": "stdout",
     "output_type": "stream",
     "text": [
      "TensorBoard logs will be saved in: ./logs/lr_0.0001_msg_straight_big_2024-11-20_01-01-45\n"
     ]
    },
    {
     "name": "stderr",
     "output_type": "stream",
     "text": [
      "                                                                                             \r"
     ]
    },
    {
     "name": "stdout",
     "output_type": "stream",
     "text": [
      "Epoch [1/15]\n",
      "Train Loss: 0.3025\n",
      "Eval Loss: 0.2013\n"
     ]
    },
    {
     "name": "stderr",
     "output_type": "stream",
     "text": [
      "                                                                                             \r"
     ]
    },
    {
     "name": "stdout",
     "output_type": "stream",
     "text": [
      "Epoch [2/15]\n",
      "Train Loss: 0.2254\n",
      "Eval Loss: 0.1696\n"
     ]
    },
    {
     "name": "stderr",
     "output_type": "stream",
     "text": [
      "                                                                                             \r"
     ]
    },
    {
     "ename": "KeyboardInterrupt",
     "evalue": "",
     "output_type": "error",
     "traceback": [
      "\u001b[1;31m---------------------------------------------------------------------------\u001b[0m",
      "\u001b[1;31mKeyboardInterrupt\u001b[0m                         Traceback (most recent call last)",
      "Cell \u001b[1;32mIn[126], line 26\u001b[0m\n\u001b[0;32m     23\u001b[0m loss\u001b[38;5;241m.\u001b[39mbackward()\n\u001b[0;32m     24\u001b[0m optimizer\u001b[38;5;241m.\u001b[39mstep()\n\u001b[1;32m---> 26\u001b[0m train_loss \u001b[38;5;241m+\u001b[39m\u001b[38;5;241m=\u001b[39m \u001b[43mloss\u001b[49m\u001b[38;5;241;43m.\u001b[39;49m\u001b[43mitem\u001b[49m\u001b[43m(\u001b[49m\u001b[43m)\u001b[49m\n\u001b[0;32m     28\u001b[0m \u001b[38;5;66;03m# 更新 tqdm 信息\u001b[39;00m\n\u001b[0;32m     29\u001b[0m train_bar\u001b[38;5;241m.\u001b[39mset_postfix({\u001b[38;5;124m\"\u001b[39m\u001b[38;5;124mBatch Loss\u001b[39m\u001b[38;5;124m\"\u001b[39m: \u001b[38;5;124mf\u001b[39m\u001b[38;5;124m\"\u001b[39m\u001b[38;5;132;01m{\u001b[39;00mloss\u001b[38;5;241m.\u001b[39mitem()\u001b[38;5;132;01m:\u001b[39;00m\u001b[38;5;124m.4f\u001b[39m\u001b[38;5;132;01m}\u001b[39;00m\u001b[38;5;124m\"\u001b[39m})\n",
      "\u001b[1;31mKeyboardInterrupt\u001b[0m: "
     ]
    }
   ],
   "source": [
    "# 初始化 TensorBoard\n",
    "writer = SummaryWriter(log_dir=log_dir)\n",
    "print(f\"TensorBoard logs will be saved in: {log_dir}\")\n",
    "\n",
    "for epoch in range(num_epochs):\n",
    "    # 训练阶段\n",
    "    model.train()\n",
    "    train_loss = 0\n",
    "\n",
    "    # tqdm 进度条 for 训练阶段\n",
    "    with tqdm(train_loader, desc=f\"Epoch {epoch + 1}/{num_epochs} - Training\", leave=False) as train_bar:\n",
    "        for images, labels in train_bar:\n",
    "            images, labels = images.to(device), labels.to(device)\n",
    "\n",
    "            # 前向传播\n",
    "            outputs = model(images)\n",
    "            loss = criterion(outputs, labels)\n",
    "\n",
    "            # 反向传播和优化\n",
    "            optimizer.zero_grad()\n",
    "            loss.backward()\n",
    "            optimizer.step()\n",
    "\n",
    "            train_loss += loss.item()\n",
    "\n",
    "            # 更新 tqdm 信息\n",
    "            train_bar.set_postfix({\"Batch Loss\": f\"{loss.item():.4f}\"})\n",
    "\n",
    "    # 计算 epoch 平均训练损失\n",
    "    avg_train_loss = train_loss / len(train_loader)\n",
    "\n",
    "    # 验证阶段\n",
    "    model.eval()\n",
    "    eval_loss = 0\n",
    "\n",
    "    # tqdm 进度条 for 验证阶段\n",
    "    with tqdm(eval_loader, desc=f\"Epoch {epoch + 1}/{num_epochs} - Validating\", leave=False) as eval_bar:\n",
    "        with torch.no_grad():\n",
    "            for images, labels in eval_bar:\n",
    "                images, labels = images.to(device), labels.to(device)\n",
    "\n",
    "                # 前向传播\n",
    "                outputs = model(images)\n",
    "                loss = criterion(outputs, labels)\n",
    "                eval_loss += loss.item()\n",
    "\n",
    "                # 更新 tqdm 信息\n",
    "                eval_bar.set_postfix({\"Batch Loss\": f\"{loss.item():.4f}\"})\n",
    "\n",
    "    # 计算 epoch 平均验证损失\n",
    "    avg_eval_loss = eval_loss / len(eval_loader)\n",
    "\n",
    "    # 打印结果\n",
    "    print(f\"Epoch [{epoch + 1}/{num_epochs}]\")\n",
    "    print(f\"Train Loss: {avg_train_loss:.4f}\")\n",
    "    print(f\"Eval Loss: {avg_eval_loss:.4f}\")\n",
    "\n",
    "    # 在同一张 TensorBoard 图上记录训练和验证损失\n",
    "    writer.add_scalars(\"Loss\", {\"Train\": avg_train_loss, \"Eval\": avg_eval_loss}, epoch)\n",
    "\n",
    "    # 可选：记录网络权重的直方图到 TensorBoard\n",
    "    for name, param in model.named_parameters():\n",
    "        writer.add_histogram(name, param, epoch)\n",
    "\n",
    "    # **保存断点**\n",
    "    if (epoch + 1) % 10 == 0:  # 每 10 个 epochs 保存一次模型\n",
    "        checkpoint_path = os.path.join(save_dir, f\"checkpoint_epoch_{custom_message}_{epoch + 1}.pth\")\n",
    "        torch.save({\n",
    "            'epoch': epoch + 1,\n",
    "            'model_state_dict': model.state_dict(),\n",
    "            'optimizer_state_dict': optimizer.state_dict(),\n",
    "            'loss': avg_train_loss,\n",
    "        }, checkpoint_path)\n",
    "        print(f\"Checkpoint saved to {checkpoint_path}\")\n",
    "\n",
    "# 关闭 TensorBoard writer\n",
    "writer.close()\n",
    "\n",
    "# 定义模型保存路径\n",
    "final_model_path = os.path.join(save_dir, \"model_straight_1_3outputs.pth\")\n",
    "torch.save(model.state_dict(), final_model_path)\n",
    "print(f\"Final model saved to {final_model_path}\")\n"
   ]
  },
  {
   "cell_type": "code",
   "execution_count": null,
   "metadata": {},
   "outputs": [
    {
     "name": "stderr",
     "output_type": "stream",
     "text": [
      "                                                                         "
     ]
    },
    {
     "name": "stdout",
     "output_type": "stream",
     "text": [
      "Test Loss: 0.0903\n"
     ]
    },
    {
     "name": "stderr",
     "output_type": "stream",
     "text": [
      "\r"
     ]
    }
   ],
   "source": [
    "# 测试阶段\n",
    "test_loss = 0\n",
    "model.eval()\n",
    "\n",
    "# tqdm 进度条 for 测试阶段\n",
    "with tqdm(test_loader, desc=\"Testing\", leave=False) as test_bar:\n",
    "    with torch.no_grad():\n",
    "        for images, labels in test_bar:\n",
    "            images, labels = images.to(device), labels.to(device)\n",
    "            outputs = model(images)\n",
    "            loss = criterion(outputs, labels)\n",
    "            test_loss += loss.item()\n",
    "\n",
    "# 计算测试集平均损失\n",
    "avg_test_loss = test_loss / len(test_loader)\n",
    "print(f\"Test Loss: {avg_test_loss:.4f}\")\n"
   ]
  },
  {
   "cell_type": "code",
   "execution_count": null,
   "metadata": {},
   "outputs": [
    {
     "name": "stdout",
     "output_type": "stream",
     "text": [
      "Model saved to ./models\\model_right_1st.pth\n"
     ]
    }
   ],
   "source": []
  },
  {
   "cell_type": "code",
   "execution_count": null,
   "metadata": {},
   "outputs": [],
   "source": []
  }
 ],
 "metadata": {
  "kernelspec": {
   "display_name": "udacity",
   "language": "python",
   "name": "python3"
  },
  "language_info": {
   "codemirror_mode": {
    "name": "ipython",
    "version": 3
   },
   "file_extension": ".py",
   "mimetype": "text/x-python",
   "name": "python",
   "nbconvert_exporter": "python",
   "pygments_lexer": "ipython3",
   "version": "3.9.7"
  }
 },
 "nbformat": 4,
 "nbformat_minor": 2
}
